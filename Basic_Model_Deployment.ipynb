{
  "nbformat": 4,
  "nbformat_minor": 0,
  "metadata": {
    "colab": {
      "provenance": [],
      "machine_shape": "hm",
      "gpuType": "T4",
      "mount_file_id": "1F3ckgzwMcfFa2JE7sU11JTNY_qZsi8BP",
      "authorship_tag": "ABX9TyNq+10f6rYhfFf/rxPq1OYH",
      "include_colab_link": true
    },
    "kernelspec": {
      "name": "python3",
      "display_name": "Python 3"
    },
    "language_info": {
      "name": "python"
    },
    "accelerator": "GPU"
  },
  "cells": [
    {
      "cell_type": "markdown",
      "metadata": {
        "id": "view-in-github",
        "colab_type": "text"
      },
      "source": [
        "<a href=\"https://colab.research.google.com/github/Jorgecardetegit/Malaria_Analysis_TFDS/blob/main/Basic_Model_Deployment.ipynb\" target=\"_parent\"><img src=\"https://colab.research.google.com/assets/colab-badge.svg\" alt=\"Open In Colab\"/></a>"
      ]
    },
    {
      "cell_type": "markdown",
      "source": [
        "\n",
        "## Model Deployment"
      ],
      "metadata": {
        "id": "oOBsLq_xhmeI"
      }
    },
    {
      "cell_type": "code",
      "execution_count": 10,
      "metadata": {
        "id": "pfOdT-puhBTp"
      },
      "outputs": [],
      "source": [
        "import numpy as np\n",
        "import matplotlib.pyplot as plt\n",
        "import seaborn as sns\n",
        "\n",
        "import tensorflow as tf\n",
        "from tensorflow.keras.models import Model, Sequential\n",
        "from tensorflow.keras.layers import Conv2D, MaxPool2D, Dense, Flatten, InputLayer, BatchNormalization, Input, Dropout, RandomFlip, Resizing, Rescaling\n",
        "from tensorflow.keras.metrics import BinaryAccuracy, FalsePositives, FalseNegatives, TruePositives, TrueNegatives, Precision, Recall, AUC\n",
        "from tensorflow.keras.losses import BinaryCrossentropy\n",
        "from tensorflow.keras.optimizers import Adam\n",
        "from tensorflow.keras.callbacks import CSVLogger, EarlyStopping, LearningRateScheduler, ReduceLROnPlateau\n",
        "from tensorflow.keras.regularizers  import L2, L1\n",
        "from tensorflow.train import Example, Features, Feature, BytesList, FloatList, Int64List\n",
        "\n",
        "import tensorflow_datasets as tfds\n",
        "\n",
        "from sklearn.metrics import confusion_matrix, roc_curve\n",
        "\n",
        "from collections import defaultdict\n",
        "from PIL import Image\n",
        "\n",
        "import os\n",
        "import io\n",
        "import random"
      ]
    },
    {
      "cell_type": "markdown",
      "source": [
        "### Parameters definition"
      ],
      "metadata": {
        "id": "JTBaz6sVhs0n"
      }
    },
    {
      "cell_type": "code",
      "source": [
        "dataset, info_dataset = tfds.load(\"malaria\", split = [\"train\"], shuffle_files = True, with_info = True, as_supervised = True)\n",
        "dataset = dataset[0]"
      ],
      "metadata": {
        "id": "B5K91uW6hLGf"
      },
      "execution_count": 11,
      "outputs": []
    },
    {
      "cell_type": "code",
      "source": [
        "CLASS_NAMES = [\"infected\", \"uninfected\"]\n",
        "\n",
        "CONFIGURATION = {\n",
        "    \"BATCH_SIZE\" : 32, \"IM_HEIGHT\" : 256, \"IM_WIDTH\" : 256, \"NORMALIZATION\" : 255, \"LEARNING_RATE\": 0.001, \"N_EPOCHS\": 100,\n",
        "    \"DROPOUT_RATE\": 0.3, \"REGULARIZATION_RATE\": 0.0,\n",
        "    \"N_FILTERS\": 6,\n",
        "    \"KERNEL_SIZE\": 3,\n",
        "    \"N_STRIDES\": 1,\n",
        "    \"POOL_SIZE\": 2,\n",
        "    \"N_DENSE_1\": 100,\n",
        "    \"N_DENSE_2\": 10,\n",
        "    \"NUM_CLASSES\":2\n",
        "}"
      ],
      "metadata": {
        "id": "fQAkwnBvhLI_"
      },
      "execution_count": 12,
      "outputs": []
    },
    {
      "cell_type": "markdown",
      "source": [
        "### Rescaling and Normalizing"
      ],
      "metadata": {
        "id": "htRse0ePh1JB"
      }
    },
    {
      "cell_type": "code",
      "source": [
        "resize_rescale_layers = Sequential([\n",
        "    Resizing(CONFIGURATION[\"IM_HEIGHT\"], CONFIGURATION[\"IM_WIDTH\"], interpolation=\"bilinear\"),           # Interpolation method used: Bilinear\n",
        "    Rescaling(1./CONFIGURATION[\"NORMALIZATION\"])])                                                       # Normalization factor\n",
        "\n",
        "@tf.function\n",
        "def map_fn(images, labels):\n",
        "    processed_images = resize_rescale_layers(images)\n",
        "    return processed_images, labels"
      ],
      "metadata": {
        "id": "-h94j9_yhLLa"
      },
      "execution_count": 4,
      "outputs": []
    },
    {
      "cell_type": "code",
      "source": [
        "dataset = dataset.map(map_fn, num_parallel_calls = tf.data.AUTOTUNE)"
      ],
      "metadata": {
        "id": "ArY_bTz5hLNk"
      },
      "execution_count": 5,
      "outputs": []
    },
    {
      "cell_type": "markdown",
      "source": [
        "### Data splitting"
      ],
      "metadata": {
        "id": "EZ4Adcy9h3pw"
      }
    },
    {
      "cell_type": "code",
      "source": [
        "def splits(dataset, TRAIN_RATIO, VAL_RATIO, TEST_RATIO, seed = None):\n",
        "  DATASET_SIZE = len(dataset)\n",
        "\n",
        "  if seed is not None:\n",
        "    dataset = dataset.shuffle(DATASET_SIZE, seed=seed)\n",
        "  else:\n",
        "    dataset = dataset.shuffle(DATASET_SIZE)\n",
        "\n",
        "  train_dataset = dataset.take(int(TRAIN_RATIO*DATASET_SIZE))\n",
        "\n",
        "  val_test_dataset = dataset.skip(int(TRAIN_RATIO*DATASET_SIZE))\n",
        "  val_dataset = val_test_dataset.take(int(VAL_RATIO*DATASET_SIZE))\n",
        "\n",
        "  test_dataset = val_test_dataset.skip(int(VAL_RATIO*DATASET_SIZE))\n",
        "  return train_dataset, val_dataset, test_dataset\n",
        "\n",
        "TRAIN_RATIO = 0.8\n",
        "VAL_RATIO = 0.1\n",
        "TEST_RATIO = 0.1"
      ],
      "metadata": {
        "id": "SVX2AQ4jhLPm"
      },
      "execution_count": 6,
      "outputs": []
    },
    {
      "cell_type": "code",
      "source": [
        "train_dataset, val_dataset, test_dataset = splits(dataset, TRAIN_RATIO, VAL_RATIO, TEST_RATIO)"
      ],
      "metadata": {
        "id": "XwxsDuw6hLRv"
      },
      "execution_count": 7,
      "outputs": []
    },
    {
      "cell_type": "markdown",
      "source": [
        "### Efficient model storage"
      ],
      "metadata": {
        "id": "j2Vq-M1HqQpp"
      }
    },
    {
      "cell_type": "code",
      "source": [
        "# @title TFRecord files creator\n",
        "\n",
        "def create_example(image, label):\n",
        "\n",
        "  bytes_feature = Feature(\n",
        "      bytes_list=BytesList(value=[image]))\n",
        "\n",
        "  int_feature = Feature(\n",
        "      int64_list=Int64List(value=[label]))\n",
        "\n",
        "  example = Example(\n",
        "      features=Features(feature={\n",
        "          'images': bytes_feature,\n",
        "          'labels': int_feature,\n",
        "      }))\n",
        "\n",
        "  return example.SerializeToString()\n",
        "\n",
        "def encode_image(image, label):\n",
        "  image = tf.image.convert_image_dtype(image, dtype=tf.uint8)\n",
        "  image = tf.io.encode_jpeg(image)\n",
        "  return image,label\n",
        "\n",
        "encoded_dataset = (\n",
        "  train_dataset\n",
        "  .map(encode_image)\n",
        ")\n",
        "\n",
        "NUM_SHARDS = 10\n",
        "PATH = '/content/drive/MyDrive/Computer vision projects/Malaria disease/Malaria dataset/shard_{:02d}.tfrecord'\n",
        "\n",
        "for shard_number in range(NUM_SHARDS):\n",
        "\n",
        "  sharded_dataset = (\n",
        "      encoded_dataset\n",
        "      .shard(NUM_SHARDS, shard_number)\n",
        "      .as_numpy_iterator()\n",
        "  )\n",
        "\n",
        "  with tf.io.TFRecordWriter(PATH.format(shard_number)) as file_writer:\n",
        "    for encoded_image, encoded_label in sharded_dataset:\n",
        "\n",
        "      example = create_example(encoded_image, encoded_label)\n",
        "      file_writer.write(example)"
      ],
      "metadata": {
        "cellView": "form",
        "id": "HdsKhjJcrp4I"
      },
      "execution_count": null,
      "outputs": []
    },
    {
      "cell_type": "code",
      "source": [
        "# @title TFRecord Dataset creation\n",
        "recons_dataset = tf.data.TFRecordDataset(\n",
        "    filenames =[PATH.format(p) for p in range(NUM_SHARDS-2)] )\n",
        "\n",
        "def parse_tfrecords(example):\n",
        "\n",
        "    feature_description = {\n",
        "          \"images\": tf.io.FixedLenFeature([], tf.string),\n",
        "          \"labels\": tf.io.FixedLenFeature([], tf.int64),\n",
        "      }\n",
        "\n",
        "    example = tf.io.parse_single_example(example, feature_description)\n",
        "    example[\"images\"] = tf.image.convert_image_dtype(\n",
        "        tf.io.decode_jpeg(\n",
        "        example[\"images\"], channels = 3), dtype = tf.float32)\n",
        "\n",
        "    return example[\"images\"], example[\"labels\"]\n",
        "\n",
        "parsed_dataset = (\n",
        "    recons_dataset\n",
        "    .map(parse_tfrecords)\n",
        "    .batch(CONFIGURATION[\"BATCH_SIZE\"])\n",
        "    .prefetch(tf.data.AUTOTUNE)\n",
        ")"
      ],
      "metadata": {
        "cellView": "form",
        "id": "OX67rViQvdKY"
      },
      "execution_count": null,
      "outputs": []
    },
    {
      "cell_type": "markdown",
      "source": [
        "### Data optimization"
      ],
      "metadata": {
        "id": "RYLokYiRh_R4"
      }
    },
    {
      "cell_type": "code",
      "source": [
        "train_dataset = (\n",
        "    train_dataset\n",
        "    .shuffle(buffer_size = 1024, reshuffle_each_iteration = True)\n",
        "    .batch(CONFIGURATION[\"BATCH_SIZE\"])\n",
        "    .prefetch(tf.data.AUTOTUNE)\n",
        "    )\n",
        "\n",
        "val_dataset = (\n",
        "    val_dataset\n",
        "    .batch(CONFIGURATION[\"BATCH_SIZE\"])\n",
        "    .prefetch(tf.data.AUTOTUNE)\n",
        "    )\n",
        "\n",
        "test_dataset = (\n",
        "    val_dataset\n",
        "    .batch(CONFIGURATION[\"BATCH_SIZE\"])\n",
        "    .prefetch(tf.data.AUTOTUNE)\n",
        "    )"
      ],
      "metadata": {
        "id": "Nn9GjOdRhLUH"
      },
      "execution_count": null,
      "outputs": []
    },
    {
      "cell_type": "markdown",
      "source": [
        "### Callbacks"
      ],
      "metadata": {
        "id": "YK5XBR4ZiKHQ"
      }
    },
    {
      "cell_type": "markdown",
      "source": [
        "### CSV logger"
      ],
      "metadata": {
        "id": "1kD7BVB8iOTO"
      }
    },
    {
      "cell_type": "code",
      "source": [
        "csv_callback = CSVLogger(r\"C:\\Users\\jorge\\OneDrive\\Imágenes\\Documentos\\Malaria Detection\\Model logs\\logs.csv\",\n",
        "                        separator = \",\",\n",
        "                        append = True)"
      ],
      "metadata": {
        "id": "0EUjHWGshbWQ"
      },
      "execution_count": null,
      "outputs": []
    },
    {
      "cell_type": "markdown",
      "source": [
        "### EarlyStopping"
      ],
      "metadata": {
        "id": "ZQZ5O0FpiR_H"
      }
    },
    {
      "cell_type": "code",
      "source": [
        "es_callback = EarlyStopping(\n",
        "    monitor = \"val_loss\",\n",
        "    min_delta = 0,                        #An absolute change of less than min_delta, will count as no improvement.\n",
        "    patience = 3,                         #Number of epochs with no improvement after which training will be stopped.\n",
        "    verbose = 0,\n",
        "    mode = \"auto\",                        #In min mode, training will stop when the quantity monitored has stopped decreasing; in max mode it will stop when the quantity monitored has stopped increasing.\n",
        "    baseline = None,                      #Baseline value for the monitored quantity. Training will stop if the model doesn't show improvement over the baseline.\n",
        "    restore_best_weights = False          #Whether to restore model weights from the epoch with the best value of the monitored quantity. If False, the model weights obtained at the last step of training are used.\n",
        ")"
      ],
      "metadata": {
        "id": "-xOHeeuRhbYW"
      },
      "execution_count": null,
      "outputs": []
    },
    {
      "cell_type": "markdown",
      "source": [
        "https://stackoverflow.com/questions/43906048/which-parameters-should-be-used-for-early-stopping"
      ],
      "metadata": {
        "id": "vYZUCUxtAzjD"
      }
    },
    {
      "cell_type": "markdown",
      "source": [
        "### Learning Rate Scheduler"
      ],
      "metadata": {
        "id": "rm-QRJnOiU0h"
      }
    },
    {
      "cell_type": "code",
      "source": [
        "def scheduler(epoch, lr):\n",
        "    if epoch <= 1:\n",
        "        learning_rate = lr\n",
        "    else:\n",
        "        learning_rate = lr * tf.math.exp(-0.1)\n",
        "    return learning_rate\n",
        "\n",
        "scheduler_callback = LearningRateScheduler(scheduler, verbose = 1)"
      ],
      "metadata": {
        "id": "7rTZI3B1hbao"
      },
      "execution_count": null,
      "outputs": []
    },
    {
      "cell_type": "markdown",
      "source": [
        "- https://www.jeremyjordan.me/nn-learning-rate/\n",
        "- https://datascience.stackexchange.com/questions/410/choosing-a-learning-rate\n",
        "- https://proceedings.neurips.cc/paper_files/paper/2018/file/a41b3bb3e6b050b6c9067c67f663b915-Paper.pdf\n"
      ],
      "metadata": {
        "id": "wponsxlpDSsM"
      }
    },
    {
      "cell_type": "markdown",
      "source": [
        "### ReduceLROnPlateau"
      ],
      "metadata": {
        "id": "swQKsaj2iYCM"
      }
    },
    {
      "cell_type": "code",
      "source": [
        "plateau_callback = ReduceLROnPlateau(monitor = \"val_accuracy\",\n",
        "                                     factor = 0.3,\n",
        "                                     patience = 5,\n",
        "                                     verbose = 1)"
      ],
      "metadata": {
        "id": "ZlVM4adahbcy"
      },
      "execution_count": null,
      "outputs": []
    },
    {
      "cell_type": "markdown",
      "source": [
        "## Model definition"
      ],
      "metadata": {
        "id": "Wt4ZqFdCic89"
      }
    },
    {
      "cell_type": "markdown",
      "source": [
        "### Custom loss class"
      ],
      "metadata": {
        "id": "d_OWRmb4igNP"
      }
    },
    {
      "cell_type": "code",
      "source": [
        "class CustomBCE(tf.keras.losses.Loss):\n",
        "  def __init__(self, FACTOR):\n",
        "    super(CustomBCE, self).__init__()\n",
        "    self.FACTOR = FACTOR\n",
        "\n",
        "  def call(self, y_true, y_pred):\n",
        "    bce = BinaryCrossentropy()\n",
        "    return bce(y_true, y_pred)* self.FACTOR"
      ],
      "metadata": {
        "id": "05rPX_OVhbfA"
      },
      "execution_count": null,
      "outputs": []
    },
    {
      "cell_type": "markdown",
      "source": [
        "### Custom metrics class"
      ],
      "metadata": {
        "id": "b-BNFMH8ike_"
      }
    },
    {
      "cell_type": "code",
      "source": [
        "class CustomAccuracy(tf.keras.metrics.Metric):\n",
        "  def __init__(self, name = 'Custom_Accuracy', FACTOR = 1):\n",
        "    super(CustomAccuracy, self).__init__()\n",
        "    self.FACTOR = FACTOR\n",
        "    self.accuracy = self.add_weight(name = name, initializer = 'zeros')\n",
        "\n",
        "\n",
        "  def update_state(self, y_true, y_pred, sample_weight = None):\n",
        "    output = binary_accuracy(tf.cast(y_true, dtype = tf.float32), y_pred)*self.FACTOR\n",
        "    self.accuracy.assign(tf.math.count_nonzero(output, dtype = tf.float32)/tf.cast(len(output), dtype = tf.float32))\n",
        "\n",
        "  def result(self):\n",
        "    return self.accuracy\n",
        "\n",
        "  def reset_states(self):\n",
        "    self.accuracy.assign(0.)\n",
        "\n",
        "FACTOR = 1"
      ],
      "metadata": {
        "id": "YEEHSCdqhbhK"
      },
      "execution_count": null,
      "outputs": []
    },
    {
      "cell_type": "markdown",
      "source": [
        "### Model metrics definition"
      ],
      "metadata": {
        "id": "JH_Rc2BCioPI"
      }
    },
    {
      "cell_type": "code",
      "source": [
        "metrics = [TruePositives(name='tp'),FalsePositives(name='fp'), TrueNegatives(name='tn'), FalseNegatives(name='fn'),\n",
        "            BinaryAccuracy(name='accuracy'), Precision(name='precision'), Recall(name='recall'), AUC(name='auc')]"
      ],
      "metadata": {
        "id": "jqYdD9tphbjR"
      },
      "execution_count": null,
      "outputs": []
    },
    {
      "cell_type": "markdown",
      "source": [
        "## Model Architecture (LeNet)"
      ],
      "metadata": {
        "id": "qCgekbPrirfI"
      }
    },
    {
      "cell_type": "markdown",
      "source": [
        "### Feature extractor (sequential API)"
      ],
      "metadata": {
        "id": "akqDEYoMiudw"
      }
    },
    {
      "cell_type": "code",
      "source": [
        "feature_extractor_seq_model = tf.keras.Sequential([\n",
        "    InputLayer(input_shape = (CONFIGURATION[\"IM_HEIGHT\"], CONFIGURATION[\"IM_WIDTH\"], 3)),\n",
        "\n",
        "    Conv2D(filters = 6, kernel_size = 3, strides=1, padding='valid', activation = 'relu', kernel_regularizer = L2(l2 = 0.01)),\n",
        "    BatchNormalization(),\n",
        "    MaxPool2D (pool_size = 2, strides= 2),\n",
        "\n",
        "    Conv2D(filters = 16, kernel_size = 3, strides=1, padding='valid', activation = 'relu', kernel_regularizer = L2(l2 = 0.01)),\n",
        "    BatchNormalization(),\n",
        "    MaxPool2D (pool_size = 2, strides= 2),\n",
        "])"
      ],
      "metadata": {
        "id": "eVNdz_MhhblG"
      },
      "execution_count": 13,
      "outputs": []
    },
    {
      "cell_type": "code",
      "source": [
        "feature_extractor_seq_model.summary()"
      ],
      "metadata": {
        "colab": {
          "base_uri": "https://localhost:8080/"
        },
        "id": "atS9Es7tiw0A",
        "outputId": "cf4acb69-2ffc-4da5-9271-a1124bef736f"
      },
      "execution_count": 14,
      "outputs": [
        {
          "output_type": "stream",
          "name": "stdout",
          "text": [
            "Model: \"sequential_1\"\n",
            "_________________________________________________________________\n",
            " Layer (type)                Output Shape              Param #   \n",
            "=================================================================\n",
            " conv2d_2 (Conv2D)           (None, 254, 254, 6)       168       \n",
            "                                                                 \n",
            " batch_normalization_2 (Bat  (None, 254, 254, 6)       24        \n",
            " chNormalization)                                                \n",
            "                                                                 \n",
            " max_pooling2d_2 (MaxPoolin  (None, 127, 127, 6)       0         \n",
            " g2D)                                                            \n",
            "                                                                 \n",
            " conv2d_3 (Conv2D)           (None, 125, 125, 16)      880       \n",
            "                                                                 \n",
            " batch_normalization_3 (Bat  (None, 125, 125, 16)      64        \n",
            " chNormalization)                                                \n",
            "                                                                 \n",
            " max_pooling2d_3 (MaxPoolin  (None, 62, 62, 16)        0         \n",
            " g2D)                                                            \n",
            "                                                                 \n",
            "=================================================================\n",
            "Total params: 1136 (4.44 KB)\n",
            "Trainable params: 1092 (4.27 KB)\n",
            "Non-trainable params: 44 (176.00 Byte)\n",
            "_________________________________________________________________\n"
          ]
        }
      ]
    },
    {
      "cell_type": "markdown",
      "source": [
        "### Callable Model (functional API)"
      ],
      "metadata": {
        "id": "FxLn15zmiyn5"
      }
    },
    {
      "cell_type": "code",
      "source": [
        "func_input = Input(shape = (CONFIGURATION[\"IM_HEIGHT\"], CONFIGURATION[\"IM_WIDTH\"], 3), name = \"Input Image\")\n",
        "\n",
        "x = feature_extractor_seq_model(func_input)\n",
        "\n",
        "x = Flatten()(x)\n",
        "\n",
        "x = Dense(100, activation = \"relu\", kernel_regularizer = L2(l2 = 0.01))(x)\n",
        "x = Dropout(CONFIGURATION[\"DROPOUT_RATE\"])(x)\n",
        "x = BatchNormalization()(x)\n",
        "\n",
        "x = Dense(10, activation = \"relu\", kernel_regularizer = L2(l2 = 0.01))(x)\n",
        "x = Dropout(CONFIGURATION[\"DROPOUT_RATE\"])(x)\n",
        "x = BatchNormalization()(x)\n",
        "\n",
        "func_output = Dense(1, activation = \"sigmoid\", kernel_regularizer = L2(l2 = 0.01))(x)\n",
        "\n",
        "lenet_model = Model(func_input, func_output, name = \"Lenet_Model\")"
      ],
      "metadata": {
        "id": "DaXMZcnfiw1_"
      },
      "execution_count": 15,
      "outputs": []
    },
    {
      "cell_type": "code",
      "source": [
        "lenet_model.summary()"
      ],
      "metadata": {
        "colab": {
          "base_uri": "https://localhost:8080/"
        },
        "id": "zzVToFtpiw4C",
        "outputId": "d25cc3eb-2e22-4c54-d968-15df26db53e8"
      },
      "execution_count": 16,
      "outputs": [
        {
          "output_type": "stream",
          "name": "stdout",
          "text": [
            "Model: \"Lenet_Model\"\n",
            "_________________________________________________________________\n",
            " Layer (type)                Output Shape              Param #   \n",
            "=================================================================\n",
            " Input Image (InputLayer)    [(None, 256, 256, 3)]     0         \n",
            "                                                                 \n",
            " sequential_1 (Sequential)   (None, 62, 62, 16)        1136      \n",
            "                                                                 \n",
            " flatten (Flatten)           (None, 61504)             0         \n",
            "                                                                 \n",
            " dense (Dense)               (None, 100)               6150500   \n",
            "                                                                 \n",
            " dropout (Dropout)           (None, 100)               0         \n",
            "                                                                 \n",
            " batch_normalization_4 (Bat  (None, 100)               400       \n",
            " chNormalization)                                                \n",
            "                                                                 \n",
            " dense_1 (Dense)             (None, 10)                1010      \n",
            "                                                                 \n",
            " dropout_1 (Dropout)         (None, 10)                0         \n",
            "                                                                 \n",
            " batch_normalization_5 (Bat  (None, 10)                40        \n",
            " chNormalization)                                                \n",
            "                                                                 \n",
            " dense_2 (Dense)             (None, 1)                 11        \n",
            "                                                                 \n",
            "=================================================================\n",
            "Total params: 6153097 (23.47 MB)\n",
            "Trainable params: 6152833 (23.47 MB)\n",
            "Non-trainable params: 264 (1.03 KB)\n",
            "_________________________________________________________________\n"
          ]
        }
      ]
    },
    {
      "cell_type": "markdown",
      "source": [
        "### Model training"
      ],
      "metadata": {
        "id": "T7ksJ0vji3RI"
      }
    },
    {
      "cell_type": "code",
      "source": [
        "lenet_model.compile(optimizer = Adam(learning_rate = CONFIGURATION['LEARNING_RATE']),\n",
        "      loss = BinaryCrossentropy(CustomBCE(FACTOR)),        # Custom loss class defined above\n",
        "      metrics = metrics)                                   # Metriics list defined above. For now the class that was defined for the"
      ],
      "metadata": {
        "id": "EQDwGGTriw6B"
      },
      "execution_count": null,
      "outputs": []
    },
    {
      "cell_type": "code",
      "source": [
        "history = lenet_model.fit(\n",
        "    train_dataset,\n",
        "    validation_data = val_dataset,\n",
        "    epochs = CONFIGURATION['N_EPOCHS'],\n",
        "    verbose = 1,\n",
        "    callbacks = [csv_callback, es_callback, scheduler_callback, plateau_callback]\n",
        "    )"
      ],
      "metadata": {
        "id": "1X9b6Lg6iw75"
      },
      "execution_count": null,
      "outputs": []
    },
    {
      "cell_type": "markdown",
      "source": [
        "https://www.pinecone.io/learn/regularization-in-neural-networks/"
      ],
      "metadata": {
        "id": "-hYsKnCdSXJ3"
      }
    }
  ]
}