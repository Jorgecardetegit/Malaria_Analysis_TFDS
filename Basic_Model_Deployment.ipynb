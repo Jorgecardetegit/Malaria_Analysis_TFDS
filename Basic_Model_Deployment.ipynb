{
  "nbformat": 4,
  "nbformat_minor": 0,
  "metadata": {
    "colab": {
      "provenance": [],
      "collapsed_sections": [
        "j2Vq-M1HqQpp"
      ],
      "machine_shape": "hm",
      "gpuType": "T4",
      "mount_file_id": "1F3ckgzwMcfFa2JE7sU11JTNY_qZsi8BP",
      "authorship_tag": "ABX9TyNqGpj4VhwctUo1MerHC7lk",
      "include_colab_link": true
    },
    "kernelspec": {
      "name": "python3",
      "display_name": "Python 3"
    },
    "language_info": {
      "name": "python"
    },
    "accelerator": "GPU"
  },
  "cells": [
    {
      "cell_type": "markdown",
      "metadata": {
        "id": "view-in-github",
        "colab_type": "text"
      },
      "source": [
        "<a href=\"https://colab.research.google.com/github/Jorgecardetegit/Malaria_Analysis_TFDS/blob/main/Basic_Model_Deployment.ipynb\" target=\"_parent\"><img src=\"https://colab.research.google.com/assets/colab-badge.svg\" alt=\"Open In Colab\"/></a>"
      ]
    },
    {
      "cell_type": "markdown",
      "source": [
        "\n",
        "## Model Deployment"
      ],
      "metadata": {
        "id": "oOBsLq_xhmeI"
      }
    },
    {
      "cell_type": "code",
      "execution_count": 5,
      "metadata": {
        "id": "pfOdT-puhBTp",
        "colab": {
          "base_uri": "https://localhost:8080/",
          "height": 383
        },
        "outputId": "73c2ec0a-e237-488b-b71d-2dd401c15a7a"
      },
      "outputs": [
        {
          "output_type": "error",
          "ename": "ImportError",
          "evalue": "ignored",
          "traceback": [
            "\u001b[0;31m---------------------------------------------------------------------------\u001b[0m",
            "\u001b[0;31mImportError\u001b[0m                               Traceback (most recent call last)",
            "\u001b[0;32m<ipython-input-5-c97bf2982f4a>\u001b[0m in \u001b[0;36m<cell line: 16>\u001b[0;34m()\u001b[0m\n\u001b[1;32m     14\u001b[0m \u001b[0;34m\u001b[0m\u001b[0m\n\u001b[1;32m     15\u001b[0m \u001b[0;32mfrom\u001b[0m \u001b[0mkerastuner\u001b[0m \u001b[0;32mimport\u001b[0m \u001b[0mRandomSearch\u001b[0m\u001b[0;34m\u001b[0m\u001b[0;34m\u001b[0m\u001b[0m\n\u001b[0;32m---> 16\u001b[0;31m \u001b[0;32mfrom\u001b[0m \u001b[0mkerastuner\u001b[0m\u001b[0;34m.\u001b[0m\u001b[0mengine\u001b[0m\u001b[0;34m.\u001b[0m\u001b[0mhyperparameters\u001b[0m \u001b[0;32mimport\u001b[0m \u001b[0mHyperParameters\u001b[0m\u001b[0;34m\u001b[0m\u001b[0;34m\u001b[0m\u001b[0m\n\u001b[0m\u001b[1;32m     17\u001b[0m \u001b[0;32mimport\u001b[0m \u001b[0mtensorflow_datasets\u001b[0m \u001b[0;32mas\u001b[0m \u001b[0mtfds\u001b[0m\u001b[0;34m\u001b[0m\u001b[0;34m\u001b[0m\u001b[0m\n\u001b[1;32m     18\u001b[0m \u001b[0;34m\u001b[0m\u001b[0m\n",
            "\u001b[0;31mImportError\u001b[0m: cannot import name 'HyperParameters' from 'kerastuner.engine.hyperparameters' (/usr/local/lib/python3.10/dist-packages/kerastuner/engine/hyperparameters.py)",
            "",
            "\u001b[0;31m---------------------------------------------------------------------------\u001b[0;32m\nNOTE: If your import is failing due to a missing package, you can\nmanually install dependencies using either !pip or !apt.\n\nTo view examples of installing some common dependencies, click the\n\"Open Examples\" button below.\n\u001b[0;31m---------------------------------------------------------------------------\u001b[0m\n"
          ],
          "errorDetails": {
            "actions": [
              {
                "action": "open_url",
                "actionText": "Open Examples",
                "url": "/notebooks/snippets/importing_libraries.ipynb"
              }
            ]
          }
        }
      ],
      "source": [
        "import numpy as np\n",
        "import matplotlib.pyplot as plt\n",
        "import seaborn as sns\n",
        "\n",
        "import tensorflow as tf\n",
        "from tensorflow.keras.models import Model, Sequential\n",
        "from tensorflow.keras.layers import Conv2D, MaxPool2D, Dense, Flatten, InputLayer, BatchNormalization, Input, Dropout, RandomFlip, Resizing, Rescaling\n",
        "from tensorflow.keras.metrics import BinaryAccuracy, FalsePositives, FalseNegatives, TruePositives, TrueNegatives, Precision, Recall, AUC\n",
        "from tensorflow.keras.losses import BinaryCrossentropy\n",
        "from tensorflow.keras.optimizers import Adam\n",
        "from tensorflow.keras.callbacks import CSVLogger, EarlyStopping, LearningRateScheduler, ReduceLROnPlateau\n",
        "from tensorflow.keras.regularizers  import L2, L1\n",
        "from tensorflow.train import Example, Features, Feature, BytesList, FloatList, Int64List\n",
        "\n",
        "from kerastuner import RandomSearch\n",
        "from kerastuner.engine.hyperparameters import HyperParameters\n",
        "import tensorflow_datasets as tfds\n",
        "\n",
        "from sklearn.metrics import confusion_matrix, roc_curve\n",
        "\n",
        "from collections import defaultdict\n",
        "from PIL import Image\n",
        "\n",
        "import os\n",
        "import io\n",
        "import random"
      ]
    },
    {
      "cell_type": "markdown",
      "source": [
        "### Parameters definition"
      ],
      "metadata": {
        "id": "JTBaz6sVhs0n"
      }
    },
    {
      "cell_type": "code",
      "source": [
        "dataset, info_dataset = tfds.load(\"malaria\", split = [\"train\"], shuffle_files = True, with_info = True, as_supervised = True)\n",
        "dataset = dataset[0]"
      ],
      "metadata": {
        "id": "B5K91uW6hLGf"
      },
      "execution_count": 2,
      "outputs": []
    },
    {
      "cell_type": "code",
      "source": [
        "CLASS_NAMES = [\"infected\", \"uninfected\"]\n",
        "\n",
        "CONFIGURATION = {\n",
        "    \"BATCH_SIZE\" : 32, \"IM_HEIGHT\" : 256, \"IM_WIDTH\" : 256, \"NORMALIZATION\" : 255, \"LEARNING_RATE\": 0.001, \"N_EPOCHS\": 100,\n",
        "    \"DROPOUT_RATE\": 0.3, \"REGULARIZATION_RATE\": 0.0, \"N_FILTERS\": 6, \"KERNEL_SIZE\": 3, \"N_STRIDES\": 1, \"POOL_SIZE\": 2,\n",
        "    \"N_DENSE_1\": 100, \"N_DENSE_2\": 10, \"NUM_CLASSES\":2\n",
        "}"
      ],
      "metadata": {
        "id": "fQAkwnBvhLI_"
      },
      "execution_count": 3,
      "outputs": []
    },
    {
      "cell_type": "markdown",
      "source": [
        "### Rescaling and Normalizing"
      ],
      "metadata": {
        "id": "htRse0ePh1JB"
      }
    },
    {
      "cell_type": "code",
      "source": [
        "resize_rescale_layers = Sequential([\n",
        "    Resizing(CONFIGURATION[\"IM_HEIGHT\"], CONFIGURATION[\"IM_WIDTH\"], interpolation=\"bilinear\"),           # Interpolation method used: Bilinear\n",
        "    Rescaling(1./CONFIGURATION[\"NORMALIZATION\"])])                                                       # Normalization factor\n",
        "\n",
        "@tf.function\n",
        "def map_fn(images, labels):\n",
        "    processed_images = resize_rescale_layers(images)\n",
        "    return processed_images, labels"
      ],
      "metadata": {
        "id": "-h94j9_yhLLa"
      },
      "execution_count": 4,
      "outputs": []
    },
    {
      "cell_type": "code",
      "source": [
        "dataset = dataset.map(map_fn, num_parallel_calls = tf.data.AUTOTUNE)"
      ],
      "metadata": {
        "id": "ArY_bTz5hLNk"
      },
      "execution_count": 5,
      "outputs": []
    },
    {
      "cell_type": "markdown",
      "source": [
        "### Data splitting"
      ],
      "metadata": {
        "id": "EZ4Adcy9h3pw"
      }
    },
    {
      "cell_type": "code",
      "source": [
        "def splits(dataset, TRAIN_RATIO, VAL_RATIO, TEST_RATIO, seed = None):\n",
        "  DATASET_SIZE = len(dataset)\n",
        "\n",
        "  if seed is not None:\n",
        "    dataset = dataset.shuffle(DATASET_SIZE, seed=seed)\n",
        "  else:\n",
        "    dataset = dataset.shuffle(DATASET_SIZE)\n",
        "\n",
        "  train_dataset = dataset.take(int(TRAIN_RATIO*DATASET_SIZE))\n",
        "\n",
        "  val_test_dataset = dataset.skip(int(TRAIN_RATIO*DATASET_SIZE))\n",
        "  val_dataset = val_test_dataset.take(int(VAL_RATIO*DATASET_SIZE))\n",
        "\n",
        "  test_dataset = val_test_dataset.skip(int(VAL_RATIO*DATASET_SIZE))\n",
        "  return train_dataset, val_dataset, test_dataset\n",
        "\n",
        "TRAIN_RATIO = 0.8\n",
        "VAL_RATIO = 0.1\n",
        "TEST_RATIO = 0.1"
      ],
      "metadata": {
        "id": "SVX2AQ4jhLPm"
      },
      "execution_count": 6,
      "outputs": []
    },
    {
      "cell_type": "code",
      "source": [
        "train_dataset, val_dataset, test_dataset = splits(dataset, TRAIN_RATIO, VAL_RATIO, TEST_RATIO)"
      ],
      "metadata": {
        "id": "XwxsDuw6hLRv"
      },
      "execution_count": 7,
      "outputs": []
    },
    {
      "cell_type": "markdown",
      "source": [
        "### Efficient model storage"
      ],
      "metadata": {
        "id": "j2Vq-M1HqQpp"
      }
    },
    {
      "cell_type": "code",
      "source": [
        "# @title TFRecord files creator\n",
        "\n",
        "def create_example(image, label):\n",
        "\n",
        "  bytes_feature = Feature(\n",
        "      bytes_list=BytesList(value=[image]))\n",
        "\n",
        "  int_feature = Feature(\n",
        "      int64_list=Int64List(value=[label]))\n",
        "\n",
        "  example = Example(\n",
        "      features=Features(feature={\n",
        "          'images': bytes_feature,\n",
        "          'labels': int_feature,\n",
        "      }))\n",
        "\n",
        "  return example.SerializeToString()\n",
        "\n",
        "def encode_image(image, label):\n",
        "  image = tf.image.convert_image_dtype(image, dtype=tf.uint8)\n",
        "  image = tf.io.encode_jpeg(image)\n",
        "  return image,label\n",
        "\n",
        "encoded_dataset = (\n",
        "  train_dataset\n",
        "  .map(encode_image)\n",
        ")\n",
        "\n",
        "NUM_SHARDS = 10\n",
        "PATH = '/content/drive/MyDrive/Computer vision projects/Malaria disease/Malaria dataset/shard_{:02d}.tfrecord'\n",
        "\n",
        "for shard_number in range(NUM_SHARDS):\n",
        "\n",
        "  sharded_dataset = (\n",
        "      encoded_dataset\n",
        "      .shard(NUM_SHARDS, shard_number)\n",
        "      .as_numpy_iterator()\n",
        "  )\n",
        "\n",
        "  with tf.io.TFRecordWriter(PATH.format(shard_number)) as file_writer:\n",
        "    for encoded_image, encoded_label in sharded_dataset:\n",
        "\n",
        "      example = create_example(encoded_image, encoded_label)\n",
        "      file_writer.write(example)"
      ],
      "metadata": {
        "cellView": "form",
        "id": "HdsKhjJcrp4I"
      },
      "execution_count": null,
      "outputs": []
    },
    {
      "cell_type": "code",
      "source": [
        "# @title TFRecord Dataset creation\n",
        "recons_dataset = tf.data.TFRecordDataset(\n",
        "    filenames =[PATH.format(p) for p in range(NUM_SHARDS-2)] )\n",
        "\n",
        "def parse_tfrecords(example):\n",
        "\n",
        "    feature_description = {\n",
        "          \"images\": tf.io.FixedLenFeature([], tf.string),\n",
        "          \"labels\": tf.io.FixedLenFeature([], tf.int64),\n",
        "      }\n",
        "\n",
        "    example = tf.io.parse_single_example(example, feature_description)\n",
        "    example[\"images\"] = tf.image.convert_image_dtype(\n",
        "        tf.io.decode_jpeg(\n",
        "        example[\"images\"], channels = 3), dtype = tf.float32)\n",
        "\n",
        "    return example[\"images\"], example[\"labels\"]\n",
        "\n",
        "parsed_dataset = (\n",
        "    recons_dataset\n",
        "    .map(parse_tfrecords)\n",
        "    .batch(CONFIGURATION[\"BATCH_SIZE\"])\n",
        "    .prefetch(tf.data.AUTOTUNE)\n",
        ")"
      ],
      "metadata": {
        "cellView": "form",
        "id": "OX67rViQvdKY"
      },
      "execution_count": null,
      "outputs": []
    },
    {
      "cell_type": "markdown",
      "source": [
        "### Data optimization"
      ],
      "metadata": {
        "id": "RYLokYiRh_R4"
      }
    },
    {
      "cell_type": "code",
      "source": [
        "train_dataset = (\n",
        "    train_dataset\n",
        "    .shuffle(buffer_size = 1024, reshuffle_each_iteration = True)\n",
        "    .batch(CONFIGURATION[\"BATCH_SIZE\"])\n",
        "    .prefetch(tf.data.AUTOTUNE)\n",
        "    )\n",
        "\n",
        "val_dataset = (\n",
        "    val_dataset\n",
        "    .batch(CONFIGURATION[\"BATCH_SIZE\"])\n",
        "    .prefetch(tf.data.AUTOTUNE)\n",
        "    )\n",
        "\n",
        "test_dataset = (\n",
        "    val_dataset\n",
        "    .batch(CONFIGURATION[\"BATCH_SIZE\"])\n",
        "    .prefetch(tf.data.AUTOTUNE)\n",
        "    )"
      ],
      "metadata": {
        "id": "Nn9GjOdRhLUH"
      },
      "execution_count": 8,
      "outputs": []
    },
    {
      "cell_type": "markdown",
      "source": [
        "### Callbacks"
      ],
      "metadata": {
        "id": "YK5XBR4ZiKHQ"
      }
    },
    {
      "cell_type": "markdown",
      "source": [
        "### CSV logger"
      ],
      "metadata": {
        "id": "1kD7BVB8iOTO"
      }
    },
    {
      "cell_type": "code",
      "source": [
        "csv_callback = CSVLogger(r\"C:\\Users\\jorge\\OneDrive\\Imágenes\\Documentos\\Malaria Detection\\Model logs\\logs.csv\",\n",
        "                        separator = \",\",\n",
        "                        append = True)"
      ],
      "metadata": {
        "id": "0EUjHWGshbWQ"
      },
      "execution_count": 9,
      "outputs": []
    },
    {
      "cell_type": "markdown",
      "source": [
        "### EarlyStopping"
      ],
      "metadata": {
        "id": "ZQZ5O0FpiR_H"
      }
    },
    {
      "cell_type": "code",
      "source": [
        "es_callback = EarlyStopping(\n",
        "    monitor = \"val_loss\",\n",
        "    min_delta = 0,                        #An absolute change of less than min_delta, will count as no improvement.\n",
        "    patience = 5,                         #Number of epochs with no improvement after which training will be stopped.\n",
        "    verbose = 0,\n",
        "    mode = \"auto\",                        #In min mode, training will stop when the quantity monitored has stopped decreasing; in max mode it will stop when the quantity monitored has stopped increasing.\n",
        "    baseline = None,                      #Baseline value for the monitored quantity. Training will stop if the model doesn't show improvement over the baseline.\n",
        "    restore_best_weights = False          #Whether to restore model weights from the epoch with the best value of the monitored quantity. If False, the model weights obtained at the last step of training are used.\n",
        ")"
      ],
      "metadata": {
        "id": "-xOHeeuRhbYW"
      },
      "execution_count": 10,
      "outputs": []
    },
    {
      "cell_type": "markdown",
      "source": [
        "https://stackoverflow.com/questions/43906048/which-parameters-should-be-used-for-early-stopping"
      ],
      "metadata": {
        "id": "vYZUCUxtAzjD"
      }
    },
    {
      "cell_type": "markdown",
      "source": [
        "### Learning Rate Scheduler"
      ],
      "metadata": {
        "id": "rm-QRJnOiU0h"
      }
    },
    {
      "cell_type": "code",
      "source": [
        "def scheduler(epoch, lr):\n",
        "    if epoch <= 1:\n",
        "        learning_rate = lr\n",
        "    else:\n",
        "        learning_rate = lr * tf.math.exp(-0.1)\n",
        "    return learning_rate\n",
        "\n",
        "scheduler_callback = LearningRateScheduler(scheduler, verbose = 1)"
      ],
      "metadata": {
        "id": "7rTZI3B1hbao"
      },
      "execution_count": 11,
      "outputs": []
    },
    {
      "cell_type": "markdown",
      "source": [
        "- https://www.jeremyjordan.me/nn-learning-rate/\n",
        "- https://datascience.stackexchange.com/questions/410/choosing-a-learning-rate\n",
        "- https://proceedings.neurips.cc/paper_files/paper/2018/file/a41b3bb3e6b050b6c9067c67f663b915-Paper.pdf\n"
      ],
      "metadata": {
        "id": "wponsxlpDSsM"
      }
    },
    {
      "cell_type": "markdown",
      "source": [
        "### ReduceLROnPlateau"
      ],
      "metadata": {
        "id": "swQKsaj2iYCM"
      }
    },
    {
      "cell_type": "code",
      "source": [
        "plateau_callback = ReduceLROnPlateau(monitor = \"val_accuracy\",\n",
        "                                     factor = 0.3,\n",
        "                                     patience = 5,\n",
        "                                     verbose = 1)"
      ],
      "metadata": {
        "id": "ZlVM4adahbcy"
      },
      "execution_count": 12,
      "outputs": []
    },
    {
      "cell_type": "markdown",
      "source": [
        "## Model definition"
      ],
      "metadata": {
        "id": "Wt4ZqFdCic89"
      }
    },
    {
      "cell_type": "markdown",
      "source": [
        "### Custom loss class"
      ],
      "metadata": {
        "id": "d_OWRmb4igNP"
      }
    },
    {
      "cell_type": "code",
      "source": [
        "class CustomBCE(tf.keras.losses.Loss):\n",
        "  def __init__(self, FACTOR):\n",
        "    super(CustomBCE, self).__init__()\n",
        "    self.FACTOR = FACTOR\n",
        "\n",
        "  def call(self, y_true, y_pred):\n",
        "    bce = BinaryCrossentropy()\n",
        "    return bce(y_true, y_pred)* self.FACTOR"
      ],
      "metadata": {
        "id": "05rPX_OVhbfA"
      },
      "execution_count": 13,
      "outputs": []
    },
    {
      "cell_type": "markdown",
      "source": [
        "### Custom metrics class"
      ],
      "metadata": {
        "id": "b-BNFMH8ike_"
      }
    },
    {
      "cell_type": "code",
      "source": [
        "class CustomAccuracy(tf.keras.metrics.Metric):\n",
        "  def __init__(self, name = 'Custom_Accuracy', FACTOR = 1):\n",
        "    super(CustomAccuracy, self).__init__()\n",
        "    self.FACTOR = FACTOR\n",
        "    self.accuracy = self.add_weight(name = name, initializer = 'zeros')\n",
        "\n",
        "\n",
        "  def update_state(self, y_true, y_pred, sample_weight = None):\n",
        "    output = binary_accuracy(tf.cast(y_true, dtype = tf.float32), y_pred)*self.FACTOR\n",
        "    self.accuracy.assign(tf.math.count_nonzero(output, dtype = tf.float32)/tf.cast(len(output), dtype = tf.float32))\n",
        "\n",
        "  def result(self):\n",
        "    return self.accuracy\n",
        "\n",
        "  def reset_states(self):\n",
        "    self.accuracy.assign(0.)\n",
        "\n",
        "FACTOR = 1"
      ],
      "metadata": {
        "id": "YEEHSCdqhbhK"
      },
      "execution_count": 14,
      "outputs": []
    },
    {
      "cell_type": "markdown",
      "source": [
        "### Model metrics definition"
      ],
      "metadata": {
        "id": "JH_Rc2BCioPI"
      }
    },
    {
      "cell_type": "code",
      "source": [
        "metrics = [TruePositives(name='tp'),FalsePositives(name='fp'), TrueNegatives(name='tn'), FalseNegatives(name='fn'),\n",
        "            BinaryAccuracy(name='accuracy'), Precision(name='precision'), Recall(name='recall'), AUC(name='auc')]"
      ],
      "metadata": {
        "id": "jqYdD9tphbjR"
      },
      "execution_count": 15,
      "outputs": []
    },
    {
      "cell_type": "markdown",
      "source": [
        "## Model Architecture (LeNet)"
      ],
      "metadata": {
        "id": "qCgekbPrirfI"
      }
    },
    {
      "cell_type": "markdown",
      "source": [
        "### Feature extractor (sequential API)"
      ],
      "metadata": {
        "id": "akqDEYoMiudw"
      }
    },
    {
      "cell_type": "code",
      "source": [
        "feature_extractor_seq_model = tf.keras.Sequential([\n",
        "    InputLayer(input_shape = (CONFIGURATION[\"IM_HEIGHT\"], CONFIGURATION[\"IM_WIDTH\"], 3)),\n",
        "\n",
        "    Conv2D(filters = 6, kernel_size = 3, strides=1, padding='valid', activation = 'relu', kernel_regularizer = L2(l2 = 0.01)),\n",
        "    BatchNormalization(),\n",
        "    MaxPool2D (pool_size = 2, strides= 2),\n",
        "\n",
        "    Conv2D(filters = 16, kernel_size = 3, strides=1, padding='valid', activation = 'relu', kernel_regularizer = L2(l2 = 0.01)),\n",
        "    BatchNormalization(),\n",
        "    MaxPool2D (pool_size = 2, strides= 2),\n",
        "])"
      ],
      "metadata": {
        "id": "eVNdz_MhhblG"
      },
      "execution_count": 16,
      "outputs": []
    },
    {
      "cell_type": "code",
      "source": [
        "feature_extractor_seq_model.summary()"
      ],
      "metadata": {
        "colab": {
          "base_uri": "https://localhost:8080/"
        },
        "id": "atS9Es7tiw0A",
        "outputId": "3b3a87ac-27c1-4085-ae9f-08dac8a85b7d"
      },
      "execution_count": 17,
      "outputs": [
        {
          "output_type": "stream",
          "name": "stdout",
          "text": [
            "Model: \"sequential_1\"\n",
            "_________________________________________________________________\n",
            " Layer (type)                Output Shape              Param #   \n",
            "=================================================================\n",
            " conv2d (Conv2D)             (None, 254, 254, 6)       168       \n",
            "                                                                 \n",
            " batch_normalization (Batch  (None, 254, 254, 6)       24        \n",
            " Normalization)                                                  \n",
            "                                                                 \n",
            " max_pooling2d (MaxPooling2  (None, 127, 127, 6)       0         \n",
            " D)                                                              \n",
            "                                                                 \n",
            " conv2d_1 (Conv2D)           (None, 125, 125, 16)      880       \n",
            "                                                                 \n",
            " batch_normalization_1 (Bat  (None, 125, 125, 16)      64        \n",
            " chNormalization)                                                \n",
            "                                                                 \n",
            " max_pooling2d_1 (MaxPoolin  (None, 62, 62, 16)        0         \n",
            " g2D)                                                            \n",
            "                                                                 \n",
            "=================================================================\n",
            "Total params: 1136 (4.44 KB)\n",
            "Trainable params: 1092 (4.27 KB)\n",
            "Non-trainable params: 44 (176.00 Byte)\n",
            "_________________________________________________________________\n"
          ]
        }
      ]
    },
    {
      "cell_type": "markdown",
      "source": [
        "### Callable Model (functional API)"
      ],
      "metadata": {
        "id": "FxLn15zmiyn5"
      }
    },
    {
      "cell_type": "code",
      "source": [
        "func_input = Input(shape = (CONFIGURATION[\"IM_HEIGHT\"], CONFIGURATION[\"IM_WIDTH\"], 3), name = \"Input Image\")\n",
        "\n",
        "x = feature_extractor_seq_model(func_input)\n",
        "\n",
        "x = Flatten()(x)\n",
        "\n",
        "x = Dense(100, activation = \"relu\", kernel_regularizer = L2(l2 = 0.01))(x)\n",
        "x = Dropout(CONFIGURATION[\"DROPOUT_RATE\"])(x)\n",
        "x = BatchNormalization()(x)\n",
        "\n",
        "x = Dense(10, activation = \"relu\", kernel_regularizer = L2(l2 = 0.01))(x)\n",
        "x = Dropout(CONFIGURATION[\"DROPOUT_RATE\"])(x)\n",
        "x = BatchNormalization()(x)\n",
        "\n",
        "func_output = Dense(1, activation = \"sigmoid\", kernel_regularizer = L2(l2 = 0.01))(x)\n",
        "\n",
        "lenet_model = Model(func_input, func_output, name = \"Lenet_Model\")"
      ],
      "metadata": {
        "id": "DaXMZcnfiw1_"
      },
      "execution_count": 18,
      "outputs": []
    },
    {
      "cell_type": "code",
      "source": [
        "lenet_model.summary()"
      ],
      "metadata": {
        "colab": {
          "base_uri": "https://localhost:8080/"
        },
        "id": "zzVToFtpiw4C",
        "outputId": "72db0950-4cde-45c5-a08b-a5be8dfeb289"
      },
      "execution_count": 19,
      "outputs": [
        {
          "output_type": "stream",
          "name": "stdout",
          "text": [
            "Model: \"Lenet_Model\"\n",
            "_________________________________________________________________\n",
            " Layer (type)                Output Shape              Param #   \n",
            "=================================================================\n",
            " Input Image (InputLayer)    [(None, 256, 256, 3)]     0         \n",
            "                                                                 \n",
            " sequential_1 (Sequential)   (None, 62, 62, 16)        1136      \n",
            "                                                                 \n",
            " flatten (Flatten)           (None, 61504)             0         \n",
            "                                                                 \n",
            " dense (Dense)               (None, 100)               6150500   \n",
            "                                                                 \n",
            " dropout (Dropout)           (None, 100)               0         \n",
            "                                                                 \n",
            " batch_normalization_2 (Bat  (None, 100)               400       \n",
            " chNormalization)                                                \n",
            "                                                                 \n",
            " dense_1 (Dense)             (None, 10)                1010      \n",
            "                                                                 \n",
            " dropout_1 (Dropout)         (None, 10)                0         \n",
            "                                                                 \n",
            " batch_normalization_3 (Bat  (None, 10)                40        \n",
            " chNormalization)                                                \n",
            "                                                                 \n",
            " dense_2 (Dense)             (None, 1)                 11        \n",
            "                                                                 \n",
            "=================================================================\n",
            "Total params: 6153097 (23.47 MB)\n",
            "Trainable params: 6152833 (23.47 MB)\n",
            "Non-trainable params: 264 (1.03 KB)\n",
            "_________________________________________________________________\n"
          ]
        }
      ]
    },
    {
      "cell_type": "markdown",
      "source": [
        "### Model training"
      ],
      "metadata": {
        "id": "T7ksJ0vji3RI"
      }
    },
    {
      "cell_type": "code",
      "source": [
        "lenet_model.compile(optimizer = Adam(learning_rate = CONFIGURATION['LEARNING_RATE']),\n",
        "      loss = BinaryCrossentropy(CustomBCE(FACTOR)),        # Custom loss class defined above\n",
        "      metrics = metrics)                                   # Metriics list defined above. For now the class that was defined for the"
      ],
      "metadata": {
        "id": "EQDwGGTriw6B"
      },
      "execution_count": 20,
      "outputs": []
    },
    {
      "cell_type": "code",
      "source": [
        "history = lenet_model.fit(\n",
        "    train_dataset,\n",
        "    validation_data = val_dataset,\n",
        "    epochs = CONFIGURATION['N_EPOCHS'],\n",
        "    verbose = 1,\n",
        "    callbacks = [csv_callback, es_callback, scheduler_callback, plateau_callback]\n",
        "    )"
      ],
      "metadata": {
        "colab": {
          "base_uri": "https://localhost:8080/"
        },
        "id": "1X9b6Lg6iw75",
        "outputId": "2e878cc9-9fff-4f81-ce0e-137d993d35d1"
      },
      "execution_count": null,
      "outputs": [
        {
          "output_type": "stream",
          "name": "stdout",
          "text": [
            "\n",
            "Epoch 1: LearningRateScheduler setting learning rate to 0.0010000000474974513.\n",
            "Epoch 1/100\n"
          ]
        },
        {
          "output_type": "stream",
          "name": "stderr",
          "text": [
            "/usr/local/lib/python3.10/dist-packages/keras/src/backend.py:5805: UserWarning: \"`binary_crossentropy` received `from_logits=True`, but the `output` argument was produced by a Sigmoid activation and thus does not represent logits. Was this intended?\n",
            "  output, from_logits = _get_logits(\n"
          ]
        },
        {
          "output_type": "stream",
          "name": "stdout",
          "text": [
            "689/689 [==============================] - 52s 44ms/step - loss: 1.6803 - tp: 6777.0000 - fp: 3684.0000 - tn: 7339.0000 - fn: 4246.0000 - accuracy: 0.6403 - precision: 0.6478 - recall: 0.6148 - auc: 0.6891 - val_loss: 1.3653 - val_tp: 1174.0000 - val_fp: 471.0000 - val_tn: 923.0000 - val_fn: 187.0000 - val_accuracy: 0.7612 - val_precision: 0.7137 - val_recall: 0.8626 - val_auc: 0.8486 - lr: 0.0010\n",
            "\n",
            "Epoch 2: LearningRateScheduler setting learning rate to 0.0010000000474974513.\n",
            "Epoch 2/100\n",
            "689/689 [==============================] - 37s 43ms/step - loss: 1.6303 - tp: 8463.0000 - fp: 2170.0000 - tn: 8852.0000 - fn: 2561.0000 - accuracy: 0.7854 - precision: 0.7959 - recall: 0.7677 - auc: 0.8565 - val_loss: 1.5839 - val_tp: 1247.0000 - val_fp: 417.0000 - val_tn: 949.0000 - val_fn: 142.0000 - val_accuracy: 0.7971 - val_precision: 0.7494 - val_recall: 0.8978 - val_auc: 0.9143 - lr: 0.0010\n",
            "\n",
            "Epoch 3: LearningRateScheduler setting learning rate to 0.0009048373904079199.\n",
            "Epoch 3/100\n",
            "688/689 [============================>.] - ETA: 0s - loss: 1.4161 - tp: 9417.0000 - fp: 1643.0000 - tn: 9391.0000 - fn: 1565.0000 - accuracy: 0.8543 - precision: 0.8514 - recall: 0.8575 - auc: 0.9174"
          ]
        }
      ]
    },
    {
      "cell_type": "markdown",
      "source": [
        "https://www.pinecone.io/learn/regularization-in-neural-networks/"
      ],
      "metadata": {
        "id": "-hYsKnCdSXJ3"
      }
    },
    {
      "cell_type": "markdown",
      "source": [
        "## Model Evaluation and Testing"
      ],
      "metadata": {
        "id": "f_6yV9fI23YU"
      }
    },
    {
      "cell_type": "code",
      "source": [
        "test_dataset = test_dataset.batch(1)"
      ],
      "metadata": {
        "id": "h6ovwDbk20dg"
      },
      "execution_count": null,
      "outputs": []
    },
    {
      "cell_type": "code",
      "source": [
        "lenet_model.evaluate(test_dataset)"
      ],
      "metadata": {
        "id": "LHwHAKIa20f3"
      },
      "execution_count": null,
      "outputs": []
    },
    {
      "cell_type": "code",
      "source": [
        "model.predict(test_dataset.take(1)[0][0])"
      ],
      "metadata": {
        "id": "G_CMuWDl20h8"
      },
      "execution_count": null,
      "outputs": []
    },
    {
      "cell_type": "code",
      "source": [
        "def parasite_or_not(x):\n",
        "  if(x<0.5):\n",
        "    return str(\"P\")\n",
        "  else:\n",
        "    return str(\"U\")"
      ],
      "metadata": {
        "id": "XXnlAg3W20kS"
      },
      "execution_count": null,
      "outputs": []
    },
    {
      "cell_type": "code",
      "source": [
        "parasite_or_not(model.predict(test_dataset.take(1)[0][0]))"
      ],
      "metadata": {
        "id": "P6TDU8Uv20mi"
      },
      "execution_count": null,
      "outputs": []
    },
    {
      "cell_type": "code",
      "source": [
        "for i, (image, label) in enumerate(test_dataset.take(9)):\n",
        "\n",
        "  ax = plt.subplot(3,3, i+1)\n",
        "  plt.imshow(image[0])\n",
        "  plt.title(str(parasite_or_not(label.numpy()[0])) + \":\" + str(parasite_or_not(lente_model.predict(image)[0][0])))\n",
        "  plt.axis(\"off\")"
      ],
      "metadata": {
        "id": "WrsyC-6o20qD"
      },
      "execution_count": null,
      "outputs": []
    },
    {
      "cell_type": "markdown",
      "source": [
        "### Hyperparameter tuning"
      ],
      "metadata": {
        "id": "1jkYQPBEBEbt"
      }
    },
    {
      "cell_type": "code",
      "source": [
        "def model_builder(hp):\n",
        "  model = keras.Sequential()\n",
        "  model.add(keras.layers.Flatten(input_shape=(28, 28)))\n",
        "\n",
        "  # Tune the number of units in the first Dense layer\n",
        "  # Choose an optimal value between 32-512\n",
        "  hp_units = hp.Int('units', min_value=32, max_value=512, step=32)\n",
        "  model.add(keras.layers.Dense(units=hp_units, activation='relu'))\n",
        "  model.add(keras.layers.Dense(10))\n",
        "\n",
        "  # Tune the learning rate for the optimizer\n",
        "  # Choose an optimal value from 0.01, 0.001, or 0.0001\n",
        "  hp_learning_rate = hp.Choice('learning_rate', values=[1e-2, 1e-3, 1e-4])\n",
        "\n",
        "  model.compile(optimizer=keras.optimizers.Adam(learning_rate=hp_learning_rate),\n",
        "                loss=keras.losses.SparseCategoricalCrossentropy(from_logits=True),\n",
        "                metrics=['accuracy'])\n",
        "\n",
        "  return model"
      ],
      "metadata": {
        "id": "eTDnpUViBD9q"
      },
      "execution_count": null,
      "outputs": []
    },
    {
      "cell_type": "code",
      "source": [
        "feature_extractor_seq_model = tf.keras.Sequential([\n",
        "    InputLayer(input_shape = (CONFIGURATION[\"IM_HEIGHT\"], CONFIGURATION[\"IM_WIDTH\"], 3)),\n",
        "\n",
        "    Conv2D(filters = 6, kernel_size = 3, strides=1, padding='valid', activation = 'relu', kernel_regularizer = L2(l2 = 0.01)),\n",
        "    BatchNormalization(),\n",
        "    MaxPool2D (pool_size = 2, strides= 2),\n",
        "\n",
        "    Conv2D(filters = 16, kernel_size = 3, strides=1, padding='valid', activation = 'relu', kernel_regularizer = L2(l2 = 0.01)),\n",
        "    BatchNormalization(),\n",
        "    MaxPool2D (pool_size = 2, strides= 2),\n",
        "])"
      ],
      "metadata": {
        "id": "nZk-zyXL3BS-"
      },
      "execution_count": null,
      "outputs": []
    },
    {
      "cell_type": "code",
      "source": [
        "func_input = Input(shape = (CONFIGURATION[\"IM_HEIGHT\"], CONFIGURATION[\"IM_WIDTH\"], 3), name = \"Input Image\")\n",
        "\n",
        "x = feature_extractor_seq_model(func_input)\n",
        "\n",
        "x = Flatten()(x)\n",
        "\n",
        "x = Dense(100, activation = \"relu\", kernel_regularizer = L2(l2 = 0.01))(x)\n",
        "x = Dropout(CONFIGURATION[\"DROPOUT_RATE\"])(x)\n",
        "x = BatchNormalization()(x)\n",
        "\n",
        "x = Dense(10, activation = \"relu\", kernel_regularizer = L2(l2 = 0.01))(x)\n",
        "x = Dropout(CONFIGURATION[\"DROPOUT_RATE\"])(x)\n",
        "x = BatchNormalization()(x)\n",
        "\n",
        "func_output = Dense(1, activation = \"sigmoid\", kernel_regularizer = L2(l2 = 0.01))(x)\n",
        "\n",
        "lenet_model = Model(func_input, func_output, name = \"Lenet_Model\")"
      ],
      "metadata": {
        "id": "QPXnfucA3BVZ"
      },
      "execution_count": null,
      "outputs": []
    },
    {
      "cell_type": "code",
      "source": [
        "def model_builder(hp):\n",
        "    # Define hyperparameters for the feature extractor layers\n",
        "    num_conv_layers = hp.Int('num_conv_layers', min_value=1, max_value=3, default=2)\n",
        "    num_filters = hp.Int('num_filters', min_value=8, max_value=64, step=8)\n",
        "    filter_size = hp.Int('filter_size', min_value=3, max_value=5)\n",
        "    conv_regularizer = hp.Choice('conv_regularizer', values=[0.0, 0.01, 0.001, 0.0001])\n",
        "\n",
        "    num_dense_layers = hp.Int('num_dense_layers', min_value=1, max_value=3, default=2)\n",
        "    dense_units = hp.Int('dense_units', min_value=32, max_value=512, step=32)\n",
        "    dense_regularizer = hp.Choice('dense_regularizer', values=[0.0, 0.01, 0.001, 0.0001])\n",
        "\n",
        "    output_regularizer = hp.Choice('output_regularizer', values=[0.0, 0.01, 0.001, 0.0001])\n",
        "\n",
        "    dropout_rate = hp.Float('dropout_rate', min_value=0.0, max_value=0.5, step=0.1)\n",
        "\n",
        "    # Hyperparameters for Learning Rate Scheduler\n",
        "    lr_schedule_factor = hp.Float('lr_schedule_factor', min_value=0.1, max_value=1.0, step=0.1)\n",
        "\n",
        "    # Hyperparameters for Early Stopping\n",
        "    early_stopping_patience = hp.Int('early_stopping_patience', min_value=5, max_value=20, step=5)\n",
        "\n",
        "    # Hyperparameters for ReduceLROnPlateau\n",
        "    reduce_lr_factor = hp.Float('reduce_lr_factor', min_value=0.1, max_value=1.0, step=0.1)\n",
        "    reduce_lr_patience = hp.Int('reduce_lr_patience', min_value=2, max_value=10, step=1)\n",
        "    reduce_lr_min_lr = hp.Float('reduce_lr_min_lr', min_value=1e-7, max_value=1e-3, step=1e-7)\n",
        "\n",
        "    # Hyperparameters for LearningRate\n",
        "    learning_rate = hp.Choice('learning_rate', values=[1e-2, 1e-3, 1e-4])\n",
        "\n",
        "\n",
        "    feature_extractor_seq_model = tf.keras.Sequential([\n",
        "        InputLayer(input_shape=(CONFIGURATION[\"IM_HEIGHT\"], CONFIGURATION[\"IM_WIDTH\"], 3)),\n",
        "    ])\n",
        "\n",
        "    for _ in range(num_conv_layers):\n",
        "      feature_extractor_seq_model.add(Conv2D(filters=num_filters, kernel_size=filter_size, strides=1, padding='valid', activation='relu', kernel_regularizer=L2(l2=conv_regularizer)))\n",
        "      feature_extractor_seq_model.add(BatchNormalization())\n",
        "      feature_extractor_seq_model.add(MaxPool2D(pool_size=2, strides=2))\n",
        "\n",
        "    # Define hyperparameters for func_input layers\n",
        "    func_input = Input(shape=(CONFIGURATION[\"IM_HEIGHT\"], CONFIGURATION[\"IM_WIDTH\"], 3), name=\"Input Image\")\n",
        "    x = feature_extractor_seq_model(func_input)\n",
        "    x = Flatten()(x)\n",
        "\n",
        "    for _ in range(num_dense_layers):\n",
        "      x = Dense(dense_units, activation=\"relu\", kernel_regularizer=L2(l2=0.01))(x)\n",
        "      x = Dropout(CONFIGURATION[\"DROPOUT_RATE\"])(x)\n",
        "      x = BatchNormalization()(x)\n",
        "\n",
        "    for _ in range(num_dense_layers):\n",
        "      x = Dense(dense_units, activation=\"relu\", kernel_regularizer=L2(l2=dense_regularizer))(x)\n",
        "      x = Dropout(dropout_rate)(x)\n",
        "      x = BatchNormalization()(x)\n",
        "\n",
        "    func_output = Dense(1, activation=\"sigmoid\", kernel_regularizer=L2(l2=output_regularizer))(x)\n",
        "\n",
        "    model = Model(func_input, func_output, name=\"Lenet_Model\")\n",
        "\n",
        "    def lr_schedule(epoch):\n",
        "      return learning_rate * lr_schedule_factor**epoch\n",
        "\n",
        "    lr_scheduler = LearningRateScheduler(lr_schedule)\n",
        "\n",
        "    early_stopping = EarlyStopping(monitor='val_loss', patience=early_stopping_patience)\n",
        "\n",
        "    reduce_lr_plateau = ReduceLROnPlateau(monitor='val_loss', factor=reduce_lr_factor, patience=reduce_lr_patience, min_lr=reduce_lr_min_lr)\n",
        "\n",
        "    callbacks = [lr_scheduler, early_stopping, reduce_lr_plateau]\n",
        "\n",
        "    model.compile(optimizer=Adam(learning_rate=learning_rate),\n",
        "              loss='binary_crossentropy',\n",
        "              metrics=['accuracy'])\n",
        "\n",
        "    return model"
      ],
      "metadata": {
        "id": "mIbf3l0y3BXh"
      },
      "execution_count": null,
      "outputs": []
    },
    {
      "cell_type": "code",
      "source": [
        "class MyModelTuner:\n",
        "    def __init__(self, config):\n",
        "        self.config = config\n",
        "\n",
        "    def build_model(self, hp):\n",
        "        # Define hyperparameters for the feature extractor layers\n",
        "        num_conv_layers = hp.Int('num_conv_layers', min_value=1, max_value=3, default=2)\n",
        "        num_filters = hp.Int('num_filters', min_value=8, max_value=64, step=8)\n",
        "        filter_size = hp.Int('filter_size', min_value=3, max_value=5)\n",
        "        conv_regularizer = hp.Choice('conv_regularizer', values=[0.0, 0.01, 0.001, 0.0001])\n",
        "\n",
        "        num_dense_layers = hp.Int('num_dense_layers', min_value=1, max_value=3, default=2)\n",
        "        dense_units = hp.Int('dense_units', min_value=32, max_value=512, step=32)\n",
        "        dense_regularizer = hp.Choice('dense_regularizer', values=[0.0, 0.01, 0.001, 0.0001])\n",
        "\n",
        "        dropout_rate = hp.Float('dropout_rate', min_value=0.0, max_value=0.5, step=0.1)\n",
        "\n",
        "        output_regularizer = hp.Choice('output_regularizer', values=[0.0, 0.01, 0.001, 0.0001])\n",
        "\n",
        "        # Define hyperparameters for Learning Rate Scheduler\n",
        "        lr_schedule_factor = hp.Float('lr_schedule_factor', min_value=0.1, max_value=1.0, step=0.1)\n",
        "\n",
        "        # Define hyperparameters for Early Stopping\n",
        "        early_stopping_patience = hp.Int('early_stopping_patience', min_value=5, max_value=20, step=5)\n",
        "\n",
        "        # Define hyperparameters for ReduceLROnPlateau\n",
        "        reduce_lr_factor = hp.Float('reduce_lr_factor', min_value=0.1, max_value=1.0, step=0.1)\n",
        "        reduce_lr_patience = hp.Int('reduce_lr_patience', min_value=2, max_value=10, step=1)\n",
        "        reduce_lr_min_lr = hp.Float('reduce_lr_min_lr', min_value=1e-7, max_value=1e-3, step=1e-7)\n",
        "\n",
        "        feature_extractor_seq_model = tf.keras.Sequential([\n",
        "            InputLayer(input_shape=(self.config[\"IM_HEIGHT\"], self.config[\"IM_WIDTH\"], 3)),\n",
        "        ])\n",
        "\n",
        "        for _ in range(num_conv_layers):\n",
        "            feature_extractor_seq_model.add(Conv2D(filters=num_filters, kernel_size=filter_size, strides=1, padding='valid', activation='relu', kernel_regularizer=L2(l2=conv_regularizer)))\n",
        "            feature_extractor_seq_model.add(BatchNormalization())\n",
        "            feature_extractor_seq_model.add(MaxPool2D(pool_size=2, strides=2))\n",
        "\n",
        "        func_input = Input(shape=(self.config[\"IM_HEIGHT\"], self.config[\"IM_WIDTH\"], 3), name=\"Input Image\")\n",
        "        x = feature_extractor_seq_model(func_input)\n",
        "        x = Flatten()(x)\n",
        "\n",
        "        for _ in range(num_dense_layers):\n",
        "            x = Dense(dense_units, activation=\"relu\", kernel_regularizer=L2(l2=dense_regularizer))(x)\n",
        "            x = Dropout(dropout_rate)(x)\n",
        "            x = BatchNormalization()(x)\n",
        "\n",
        "        func_output = Dense(1, activation=\"sigmoid\", kernel_regularizer=L2(l2=output_regularizer))(x)\n",
        "\n",
        "        # Add learning rate as a hyperparameter\n",
        "        learning_rate = hp.Choice('learning_rate', values=[1e-2, 1e-3, 1e-4])\n",
        "\n",
        "        model = Model(func_input, func_output, name=\"Lenet_Model\")\n",
        "\n",
        "        # Configure Learning Rate Scheduler based on hyperparameters\n",
        "        def lr_schedule(epoch):\n",
        "            return learning_rate * lr_schedule_factor**epoch\n",
        "\n",
        "        lr_scheduler = LearningRateScheduler(lr_schedule)\n",
        "\n",
        "        # Configure Early Stopping based on hyperparameters\n",
        "        early_stopping = EarlyStopping(monitor='val_loss', patience=early_stopping_patience)\n",
        "\n",
        "        # Configure ReduceLROnPlateau based on hyperparameters\n",
        "        reduce_lr_plateau = ReduceLROnPlateau(monitor='val_loss', factor=reduce_lr_factor, patience=reduce_lr_patience, min_lr=reduce_lr_min_lr)\n",
        "\n",
        "        callbacks = [lr_scheduler, early_stopping, reduce_lr_plateau]\n",
        "\n",
        "        model.compile(optimizer=Adam(learning_rate=learning_rate),\n",
        "                      loss='binary_crossentropy',\n",
        "                      metrics=['accuracy'])\n",
        "\n",
        "        return model\n",
        "\n",
        "    def run_tuner(self):\n",
        "        # Create a Keras Tuner RandomSearch tuner\n",
        "        tuner = RandomSearch(\n",
        "            self.build_model,\n",
        "            objective='val_accuracy',\n",
        "            max_trials=self.config[\"max_trials\"],\n",
        "            directory='my_dir',\n",
        "            project_name='my_project'\n",
        "        )\n",
        "\n",
        "        # Define the search space and perform hyperparameter tuning\n",
        "        tuner.search(x=self.config[\"x_train\"],\n",
        "                     y=self.config[\"y_train\"],\n",
        "                     validation_data=(self.config[\"x_val\"], self.config[\"y_val\"]),\n",
        "                     epochs=self.config[\"epochs\"])\n",
        "\n",
        "        # Get the best hyperparameters\n",
        "        best_hps = tuner.get_best_hyperparameters(num_trials=1)[0]\n",
        "\n",
        "        return best_hps\n",
        "\n",
        "\n",
        "# Example configuration\n",
        "config = {\n",
        "    \"IM_HEIGHT\": 128,\n",
        "    \"IM_WIDTH\": 128,\n",
        "    \"max_trials\": 10,\n",
        "    \"x_train\": np.random.rand(100, 128, 128, 3),\n",
        "    \"y_train\": np.random.randint(0, 2, size=(100,)),\n",
        "    \"x_val\": np.random.rand(20, 128, 128, 3),\n",
        "    }\n",
        "\n",
        "# Create an instance of MyModelTuner\n",
        "my_tuner = MyModelTuner(config)\n",
        "\n",
        "# Run the hyperparameter tuning process\n",
        "best_hyperparameters = my_tuner.run_tuner()\n",
        "\n",
        "# Print the best hyperparameters\n",
        "print(\"Best Hyperparameters:\")\n",
        "print(best_hyperparameters)"
      ],
      "metadata": {
        "id": "s3bfTmN_3BZn"
      },
      "execution_count": null,
      "outputs": []
    },
    {
      "cell_type": "code",
      "source": [],
      "metadata": {
        "id": "S8UhNCCF3Bcd"
      },
      "execution_count": null,
      "outputs": []
    },
    {
      "cell_type": "code",
      "source": [],
      "metadata": {
        "id": "bBFXMKV33BfG"
      },
      "execution_count": null,
      "outputs": []
    }
  ]
}